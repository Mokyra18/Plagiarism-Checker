{
 "cells": [
  {
   "cell_type": "markdown",
   "id": "cf704b44-5d8b-4a6f-b9d8-a48b78cb6223",
   "metadata": {},
   "source": [
    "# Tugas Proyek Akhir Pemrosesan Bahasa Alami\n",
    "**Plagiarism Checker** \n",
    "\n",
    "**Kelompok 8 Kelas B**\n",
    "- Haikal Mufid Mubarok (1217050059)\n",
    "- Mochammad Rizky Ramadhani (1217050081)\n",
    "- Muhammad Dzikri (1217050090)\n",
    "- Rizky Dwi Putra (1217050127)\n"
   ]
  },
  {
   "cell_type": "markdown",
   "id": "09f8a6f7-9afe-4482-837e-0b4c4c7bf699",
   "metadata": {},
   "source": [
    "## Import Libraries"
   ]
  },
  {
   "cell_type": "code",
   "execution_count": 1,
   "id": "04de232c-baa9-4166-8aeb-b29480762728",
   "metadata": {},
   "outputs": [
    {
     "name": "stderr",
     "output_type": "stream",
     "text": [
      "[nltk_data] Downloading collection 'popular'\n",
      "[nltk_data]    | \n",
      "[nltk_data]    | Downloading package cmudict to\n",
      "[nltk_data]    |     C:\\Users\\RIZKI\\AppData\\Roaming\\nltk_data...\n",
      "[nltk_data]    |   Package cmudict is already up-to-date!\n",
      "[nltk_data]    | Downloading package gazetteers to\n",
      "[nltk_data]    |     C:\\Users\\RIZKI\\AppData\\Roaming\\nltk_data...\n",
      "[nltk_data]    |   Package gazetteers is already up-to-date!\n",
      "[nltk_data]    | Downloading package genesis to\n",
      "[nltk_data]    |     C:\\Users\\RIZKI\\AppData\\Roaming\\nltk_data...\n",
      "[nltk_data]    |   Package genesis is already up-to-date!\n",
      "[nltk_data]    | Downloading package gutenberg to\n",
      "[nltk_data]    |     C:\\Users\\RIZKI\\AppData\\Roaming\\nltk_data...\n",
      "[nltk_data]    |   Package gutenberg is already up-to-date!\n",
      "[nltk_data]    | Downloading package inaugural to\n",
      "[nltk_data]    |     C:\\Users\\RIZKI\\AppData\\Roaming\\nltk_data...\n",
      "[nltk_data]    |   Package inaugural is already up-to-date!\n",
      "[nltk_data]    | Downloading package movie_reviews to\n",
      "[nltk_data]    |     C:\\Users\\RIZKI\\AppData\\Roaming\\nltk_data...\n",
      "[nltk_data]    |   Package movie_reviews is already up-to-date!\n",
      "[nltk_data]    | Downloading package names to\n",
      "[nltk_data]    |     C:\\Users\\RIZKI\\AppData\\Roaming\\nltk_data...\n",
      "[nltk_data]    |   Package names is already up-to-date!\n",
      "[nltk_data]    | Downloading package shakespeare to\n",
      "[nltk_data]    |     C:\\Users\\RIZKI\\AppData\\Roaming\\nltk_data...\n",
      "[nltk_data]    |   Package shakespeare is already up-to-date!\n",
      "[nltk_data]    | Downloading package stopwords to\n",
      "[nltk_data]    |     C:\\Users\\RIZKI\\AppData\\Roaming\\nltk_data...\n",
      "[nltk_data]    |   Package stopwords is already up-to-date!\n",
      "[nltk_data]    | Downloading package treebank to\n",
      "[nltk_data]    |     C:\\Users\\RIZKI\\AppData\\Roaming\\nltk_data...\n",
      "[nltk_data]    |   Package treebank is already up-to-date!\n",
      "[nltk_data]    | Downloading package twitter_samples to\n",
      "[nltk_data]    |     C:\\Users\\RIZKI\\AppData\\Roaming\\nltk_data...\n",
      "[nltk_data]    |   Package twitter_samples is already up-to-date!\n",
      "[nltk_data]    | Downloading package omw to\n",
      "[nltk_data]    |     C:\\Users\\RIZKI\\AppData\\Roaming\\nltk_data...\n",
      "[nltk_data]    |   Package omw is already up-to-date!\n",
      "[nltk_data]    | Downloading package omw-1.4 to\n",
      "[nltk_data]    |     C:\\Users\\RIZKI\\AppData\\Roaming\\nltk_data...\n",
      "[nltk_data]    |   Package omw-1.4 is already up-to-date!\n",
      "[nltk_data]    | Downloading package wordnet to\n",
      "[nltk_data]    |     C:\\Users\\RIZKI\\AppData\\Roaming\\nltk_data...\n",
      "[nltk_data]    |   Package wordnet is already up-to-date!\n",
      "[nltk_data]    | Downloading package wordnet2021 to\n",
      "[nltk_data]    |     C:\\Users\\RIZKI\\AppData\\Roaming\\nltk_data...\n",
      "[nltk_data]    |   Package wordnet2021 is already up-to-date!\n",
      "[nltk_data]    | Downloading package wordnet31 to\n",
      "[nltk_data]    |     C:\\Users\\RIZKI\\AppData\\Roaming\\nltk_data...\n",
      "[nltk_data]    |   Package wordnet31 is already up-to-date!\n",
      "[nltk_data]    | Downloading package wordnet_ic to\n",
      "[nltk_data]    |     C:\\Users\\RIZKI\\AppData\\Roaming\\nltk_data...\n",
      "[nltk_data]    |   Package wordnet_ic is already up-to-date!\n",
      "[nltk_data]    | Downloading package words to\n",
      "[nltk_data]    |     C:\\Users\\RIZKI\\AppData\\Roaming\\nltk_data...\n",
      "[nltk_data]    |   Package words is already up-to-date!\n",
      "[nltk_data]    | Downloading package maxent_ne_chunker to\n",
      "[nltk_data]    |     C:\\Users\\RIZKI\\AppData\\Roaming\\nltk_data...\n",
      "[nltk_data]    |   Package maxent_ne_chunker is already up-to-date!\n",
      "[nltk_data]    | Downloading package punkt to\n",
      "[nltk_data]    |     C:\\Users\\RIZKI\\AppData\\Roaming\\nltk_data...\n",
      "[nltk_data]    |   Package punkt is already up-to-date!\n",
      "[nltk_data]    | Downloading package snowball_data to\n",
      "[nltk_data]    |     C:\\Users\\RIZKI\\AppData\\Roaming\\nltk_data...\n",
      "[nltk_data]    |   Package snowball_data is already up-to-date!\n",
      "[nltk_data]    | Downloading package averaged_perceptron_tagger to\n",
      "[nltk_data]    |     C:\\Users\\RIZKI\\AppData\\Roaming\\nltk_data...\n",
      "[nltk_data]    |   Package averaged_perceptron_tagger is already up-\n",
      "[nltk_data]    |       to-date!\n",
      "[nltk_data]    | \n",
      "[nltk_data]  Done downloading collection popular\n"
     ]
    }
   ],
   "source": [
    "import nltk\n",
    "nltk.download(\"popular\")\n",
    "from sklearn.metrics.pairwise import cosine_similarity\n",
    "import pandas as pd\n",
    "import string\n",
    "from nltk.corpus import stopwords\n",
    "import joblib\n",
    "from sklearn.linear_model import LogisticRegression\n",
    "from sklearn.model_selection import train_test_split\n",
    "from sklearn.metrics import accuracy_score, classification_report, confusion_matrix\n",
    "from sklearn.feature_extraction.text import TfidfVectorizer\n",
    "from sklearn.preprocessing import StandardScaler\n",
    "from sklearn.naive_bayes import MultinomialNB\n",
    "import pickle"
   ]
  },
  {
   "cell_type": "markdown",
   "id": "b1c8885e-69a0-4e89-afe0-6c984b93afde",
   "metadata": {},
   "source": [
    "## Install Library Tambahan"
   ]
  },
  {
   "cell_type": "code",
   "execution_count": 2,
   "id": "1eec34eb-5557-4fd8-9ba2-12c27a3ec1de",
   "metadata": {},
   "outputs": [
    {
     "name": "stdout",
     "output_type": "stream",
     "text": [
      "Requirement already satisfied: xgboost in c:\\users\\rizki\\anaconda3\\envs\\nlp\\lib\\site-packages (2.1.3)\n",
      "Requirement already satisfied: numpy in c:\\users\\rizki\\anaconda3\\envs\\nlp\\lib\\site-packages (from xgboost) (1.26.4)\n",
      "Requirement already satisfied: scipy in c:\\users\\rizki\\anaconda3\\envs\\nlp\\lib\\site-packages (from xgboost) (1.14.1)\n",
      "Note: you may need to restart the kernel to use updated packages.\n"
     ]
    }
   ],
   "source": [
    "pip install xgboost"
   ]
  },
  {
   "cell_type": "markdown",
   "id": "30b1e850-5fb5-417d-9640-4e0f6df0a0f8",
   "metadata": {},
   "source": [
    "## Load Dataset"
   ]
  },
  {
   "cell_type": "code",
   "execution_count": 3,
   "id": "e42eaaa0-89c2-4266-b06f-9a3eb00621b0",
   "metadata": {},
   "outputs": [
    {
     "name": "stdout",
     "output_type": "stream",
     "text": [
      "   index                                        source_text  \\\n",
      "0      0  A person on a horse jumps over a broken down a...   \n",
      "1      1  A person on a horse jumps over a broken down a...   \n",
      "2      2              Children smiling and waving at camera   \n",
      "3      3              Children smiling and waving at camera   \n",
      "4      4  A boy is jumping on skateboard in the middle o...   \n",
      "\n",
      "                                plagiarized_text  label  \n",
      "0  A person is at a diner, ordering an omelette.      0  \n",
      "1              A person is outdoors, on a horse.      1  \n",
      "2                     There are children present      1  \n",
      "3                          The kids are frowning      0  \n",
      "4              The boy skates down the sidewalk.      0  \n",
      "index                int64\n",
      "source_text         object\n",
      "plagiarized_text    object\n",
      "label                int64\n",
      "dtype: object\n"
     ]
    }
   ],
   "source": [
    "data = pd.read_csv('formatted_data.csv')\n",
    "print(data.head())  \n",
    "data['label'].value_counts() \n",
    "print(data.dtypes) "
   ]
  },
  {
   "cell_type": "code",
   "execution_count": 4,
   "id": "881fc5c9-8d21-474f-9737-1f714bd271ae",
   "metadata": {},
   "outputs": [
    {
     "data": {
      "text/plain": [
       "label\n",
       "0    183966\n",
       "1    183407\n",
       "Name: count, dtype: int64"
      ]
     },
     "execution_count": 4,
     "metadata": {},
     "output_type": "execute_result"
    }
   ],
   "source": [
    "data['label'].value_counts()"
   ]
  },
  {
   "cell_type": "code",
   "execution_count": 5,
   "id": "6966deec-9836-4f66-bd86-5f46108dc725",
   "metadata": {},
   "outputs": [
    {
     "name": "stdout",
     "output_type": "stream",
     "text": [
      "index                int64\n",
      "source_text         object\n",
      "plagiarized_text    object\n",
      "label                int64\n",
      "dtype: object\n"
     ]
    }
   ],
   "source": [
    "print(data.dtypes)"
   ]
  },
  {
   "cell_type": "markdown",
   "id": "21c2e8e7-c728-4418-a246-de1ded438dfc",
   "metadata": {},
   "source": [
    "## Preprocessing Data"
   ]
  },
  {
   "cell_type": "code",
   "execution_count": 6,
   "id": "cd578cd3-5eaf-481b-a233-b24a0a614cdd",
   "metadata": {},
   "outputs": [],
   "source": [
    "def test_text(text):\n",
    "    if not isinstance(text, str):\n",
    "        text = str(text) \n",
    "    return text\n",
    "\n",
    "data[\"plagiarized_text\"] = data[\"plagiarized_text\"].apply(test_text)\n"
   ]
  },
  {
   "cell_type": "code",
   "execution_count": 7,
   "id": "79d12c4e-bee8-4254-a418-a4dcd0708f75",
   "metadata": {},
   "outputs": [],
   "source": [
    "def preprocess_text(text):\n",
    "    text = text.translate(str.maketrans(\"\", \"\", string.punctuation))\n",
    "    text = text.lower()\n",
    "    stop_words = set(stopwords.words(\"english\"))\n",
    "    text = \" \".join(word for word in text.split() if word not in stop_words)\n",
    "    return text\n",
    "data[\"source_text\"] = data[\"source_text\"].apply(preprocess_text)\n",
    "data[\"plagiarized_text\"] = data[\"plagiarized_text\"].apply(preprocess_text)"
   ]
  },
  {
   "cell_type": "markdown",
   "id": "16eb18ef-e41d-46b2-89ba-1c056886644a",
   "metadata": {},
   "source": [
    "## Feature Extraction"
   ]
  },
  {
   "cell_type": "code",
   "execution_count": 8,
   "id": "71f39743-2d87-414a-ab74-0de293745ec0",
   "metadata": {},
   "outputs": [],
   "source": [
    "tfidf_vectorizer = TfidfVectorizer()\n",
    "X = tfidf_vectorizer.fit_transform(data[\"source_text\"] + \" \" + data[\"plagiarized_text\"])\n",
    "y = data[\"label\"]"
   ]
  },
  {
   "cell_type": "markdown",
   "id": "0fc22db5-85d3-4a27-9b1e-0cb61dbb277b",
   "metadata": {},
   "source": [
    "## Train-Test Split"
   ]
  },
  {
   "cell_type": "code",
   "execution_count": 9,
   "id": "cd183899-d11c-4a71-9ecf-7ca0cefddc52",
   "metadata": {},
   "outputs": [],
   "source": [
    "X_train, X_test, y_train, y_test = train_test_split(X, y, test_size=0.2, random_state=42)"
   ]
  },
  {
   "cell_type": "markdown",
   "id": "20f40a91-7fc3-4cf1-b787-9348d51e1ec2",
   "metadata": {},
   "source": [
    "## Standardisasi Data"
   ]
  },
  {
   "cell_type": "code",
   "execution_count": 10,
   "id": "9479de03-282e-4a51-99f9-6285fffe35f7",
   "metadata": {},
   "outputs": [],
   "source": [
    "from sklearn.preprocessing import StandardScaler\n",
    "\n",
    "scaler = StandardScaler(with_mean=False)\n",
    "X_train_scaled = scaler.fit_transform(X_train)\n",
    "X_test_scaled = scaler.transform(X_test)\n"
   ]
  },
  {
   "cell_type": "markdown",
   "id": "bd89e664-c02b-4de0-b544-0a9ae0f0cf8c",
   "metadata": {},
   "source": [
    "##  Model Training and Evaluation"
   ]
  },
  {
   "cell_type": "markdown",
   "id": "c11f2722-f1a6-42f4-abf0-a621ea849607",
   "metadata": {},
   "source": [
    "## XGBoost Model"
   ]
  },
  {
   "cell_type": "code",
   "execution_count": 11,
   "id": "c2405045-355a-4ace-a747-70a24ca48531",
   "metadata": {},
   "outputs": [
    {
     "name": "stdout",
     "output_type": "stream",
     "text": [
      "Accuracy: 0.7306022456617898\n",
      "\n",
      "Classification Report:\n",
      "              precision    recall  f1-score   support\n",
      "\n",
      "           0       0.78      0.64      0.71     36795\n",
      "           1       0.70      0.82      0.75     36680\n",
      "\n",
      "    accuracy                           0.73     73475\n",
      "   macro avg       0.74      0.73      0.73     73475\n",
      "weighted avg       0.74      0.73      0.73     73475\n",
      "\n",
      "\n",
      "Confusion Matrix:\n",
      "[[23682 13113]\n",
      " [ 6681 29999]]\n"
     ]
    }
   ],
   "source": [
    "import xgboost as xgb\n",
    "from sklearn.metrics import accuracy_score, classification_report, confusion_matrix\n",
    "\n",
    "xgb_model = xgb.XGBClassifier(n_estimators=100, max_depth=5, random_state=42)\n",
    "xgb_model.fit(X_train_scaled, y_train)\n",
    "\n",
    "# Evaluation Model\n",
    "y_pred_xgb = xgb_model.predict(X_test_scaled)\n",
    "accuracy_xgb = accuracy_score(y_test, y_pred_xgb)\n",
    "classification_rep_xgb = classification_report(y_test, y_pred_xgb)\n",
    "cm_xgb = confusion_matrix(y_test, y_pred_xgb)\n",
    "\n",
    "# Evaluation Result\n",
    "print(\"Accuracy:\", accuracy_xgb)\n",
    "print(\"\\nClassification Report:\")\n",
    "print(classification_rep_xgb)\n",
    "print(\"\\nConfusion Matrix:\")\n",
    "print(cm_xgb)\n"
   ]
  },
  {
   "cell_type": "markdown",
   "id": "b8689264-ee6a-448a-a568-7ff45db55ab3",
   "metadata": {},
   "source": [
    "## Logistic Regression Model"
   ]
  },
  {
   "cell_type": "code",
   "execution_count": 12,
   "id": "bbdec53d-d4aa-49d8-9e7f-52fa856b668f",
   "metadata": {},
   "outputs": [
    {
     "name": "stdout",
     "output_type": "stream",
     "text": [
      "Accuracy: 0.68544402858115\n",
      "\n",
      "Classification Report:\n",
      "              precision    recall  f1-score   support\n",
      "\n",
      "           0       0.70      0.65      0.67     36795\n",
      "           1       0.67      0.72      0.70     36680\n",
      "\n",
      "    accuracy                           0.69     73475\n",
      "   macro avg       0.69      0.69      0.69     73475\n",
      "weighted avg       0.69      0.69      0.69     73475\n",
      "\n",
      "\n",
      "Confusion Matrix:\n",
      "[[23984 12811]\n",
      " [10301 26379]]\n"
     ]
    }
   ],
   "source": [
    "model = LogisticRegression(max_iter=1000, solver='lbfgs')  \n",
    "model.fit(X_train_scaled, y_train)\n",
    "\n",
    "# Evaluation Model\n",
    "y_pred = model.predict(X_test_scaled)\n",
    "accuracy = accuracy_score(y_test, y_pred)\n",
    "classification_rep = classification_report(y_test, y_pred)\n",
    "cm = confusion_matrix(y_test, y_pred)\n",
    "\n",
    "# Evaluation Result\n",
    "print(\"Accuracy:\", accuracy)\n",
    "print(\"\\nClassification Report:\")\n",
    "print(classification_rep)\n",
    "print(\"\\nConfusion Matrix:\")\n",
    "print(cm)"
   ]
  },
  {
   "cell_type": "markdown",
   "id": "49b31e34-dce6-4632-b136-0273b602bb23",
   "metadata": {},
   "source": [
    "## Multinomial Naive Bayes Model"
   ]
  },
  {
   "cell_type": "code",
   "execution_count": 13,
   "id": "763a9cbb-1ed1-4df0-a23d-c23c1ba46258",
   "metadata": {},
   "outputs": [
    {
     "name": "stdout",
     "output_type": "stream",
     "text": [
      "Accuracy: 0.6417556992174209\n",
      "Classification Report:\n",
      "              precision    recall  f1-score   support\n",
      "\n",
      "           0       0.66      0.58      0.62     36795\n",
      "           1       0.63      0.71      0.66     36680\n",
      "\n",
      "    accuracy                           0.64     73475\n",
      "   macro avg       0.64      0.64      0.64     73475\n",
      "weighted avg       0.64      0.64      0.64     73475\n",
      "\n",
      "Confusion Matrix:\n",
      "[[21260 15535]\n",
      " [10787 25893]]\n"
     ]
    }
   ],
   "source": [
    "from sklearn.naive_bayes import MultinomialNB\n",
    "\n",
    "model = MultinomialNB()\n",
    "model.fit(X_train, y_train)\n",
    "\n",
    "# Evaluation Model\n",
    "y_pred = model.predict(X_test)\n",
    "accuracy = accuracy_score(y_test, y_pred)\n",
    "classification_rep = classification_report(y_test, y_pred)\n",
    "cm = confusion_matrix(y_test, y_pred)\n",
    "\n",
    "# Evaluation Result\n",
    "print(\"Accuracy:\", accuracy)\n",
    "print(\"Classification Report:\")\n",
    "print(classification_rep)\n",
    "print(\"Confusion Matrix:\")\n",
    "print(cm)"
   ]
  },
  {
   "cell_type": "markdown",
   "id": "ad570dc0-3a7e-4a9a-99c9-670969f33bb7",
   "metadata": {},
   "source": [
    "## Model and Vectorizer Saving"
   ]
  },
  {
   "cell_type": "code",
   "execution_count": 14,
   "id": "af609ebd-4e3d-4ab3-a01a-ce57277cd3f5",
   "metadata": {},
   "outputs": [],
   "source": [
    "import pickle\n",
    "\n",
    "pickle.dump(xgb_model, open(\"xgb_model.pkl\", 'wb'))\n",
    "\n",
    "pickle.dump(tfidf_vectorizer, open('tfidf_vectorizer.pkl', 'wb'))"
   ]
  },
  {
   "cell_type": "markdown",
   "id": "b0ca89be-eb90-4a9a-98c6-602844143a41",
   "metadata": {},
   "source": [
    "## Test Model"
   ]
  },
  {
   "cell_type": "markdown",
   "id": "b65de702-ca12-4851-9931-81a1674dca22",
   "metadata": {},
   "source": [
    "### Model Load"
   ]
  },
  {
   "cell_type": "code",
   "execution_count": 15,
   "id": "dca414ab-0a01-4d43-8547-08b254f8260d",
   "metadata": {},
   "outputs": [],
   "source": [
    "xgb_model = pickle.load(open('xgb_model.pkl', 'rb'))\n",
    "\n",
    "tfidf_vectorizer = pickle.load(open('tfidf_vectorizer.pkl', 'rb'))"
   ]
  },
  {
   "cell_type": "markdown",
   "id": "39a157f4-034f-422d-a9f0-580417769399",
   "metadata": {},
   "source": [
    "### Plagiarism Detection Function"
   ]
  },
  {
   "cell_type": "code",
   "execution_count": 16,
   "id": "5742741e-7fef-4777-8c38-01d6717a4bc2",
   "metadata": {},
   "outputs": [],
   "source": [
    "def detect(input_text):\n",
    "    # Transformasi input teks menggunakan tfidf_vectorizer\n",
    "    vectorized_text = tfidf_vectorizer.transform([input_text])\n",
    "    \n",
    "    # Prediksi menggunakan model XGBoost yang telah dimuat\n",
    "    result = xgb_model.predict(vectorized_text)\n",
    "    \n",
    "    # Menyatakan hasil prediksi\n",
    "    return \"Plagiarism Detected\" if result[0] == 1 else \"No Plagiarism\"\n"
   ]
  },
  {
   "cell_type": "markdown",
   "id": "1644700b-aa05-4e73-8a27-752e9229b6e2",
   "metadata": {},
   "source": [
    "### Example Test"
   ]
  },
  {
   "cell_type": "code",
   "execution_count": 17,
   "id": "178a072d-0652-46ed-823f-c4ac52f3c989",
   "metadata": {},
   "outputs": [
    {
     "data": {
      "text/plain": [
       "'Plagiarism Detected'"
      ]
     },
     "execution_count": 17,
     "metadata": {},
     "output_type": "execute_result"
    }
   ],
   "source": [
    "# example ( it is a plagarized text)\n",
    "input_text = 'A man stands next to a ca'\n",
    "detect(input_text)"
   ]
  },
  {
   "cell_type": "code",
   "execution_count": 18,
   "id": "5e7e858d-9902-40cd-8a6c-578f92bb088f",
   "metadata": {},
   "outputs": [
    {
     "data": {
      "text/plain": [
       "'No Plagiarism'"
      ]
     },
     "execution_count": 18,
     "metadata": {},
     "output_type": "execute_result"
    }
   ],
   "source": [
    "# example ( it has no plagiarism)\n",
    "input_text = 'A man sits inside a car.'\n",
    "detect(input_text)"
   ]
  },
  {
   "cell_type": "markdown",
   "id": "808c90c6-f982-4985-bbbb-319c35add265",
   "metadata": {},
   "source": [
    "## Visualization"
   ]
  },
  {
   "cell_type": "code",
   "execution_count": 19,
   "id": "64280c3b-f4d3-4338-90f6-57189c4a17ac",
   "metadata": {},
   "outputs": [
    {
     "data": {
      "image/png": "[encoded data removed]",
      "text/plain": [
       "<Figure size 700x500 with 2 Axes>"
      ]
     },
     "metadata": {},
     "output_type": "display_data"
    },
    {
     "data": {
      "image/png": "[encoded data removed]",
      "text/plain": [
       "<Figure size 640x480 with 1 Axes>"
      ]
     },
     "metadata": {},
     "output_type": "display_data"
    }
   ],
   "source": [
    "import matplotlib.pyplot as plt\n",
    "import seaborn as sns\n",
    "\n",
    "\n",
    "# Visualisasi Confusion Matrix\n",
    "plt.figure(figsize=(7, 5))\n",
    "sns.heatmap(cm_xgb, annot=True, fmt='d', cmap='Blues', xticklabels=[\"No Plagiarism\", \"Plagiarism\"], yticklabels=[\"No Plagiarism\", \"Plagiarism\"])\n",
    "plt.title('Confusion Matrix for XGBoost')\n",
    "plt.xlabel('Predicted Labels')\n",
    "plt.ylabel('True Labels')\n",
    "plt.show()\n",
    "\n",
    "# Visualisasi Feature Importance\n",
    "xgb.plot_importance(xgb_model, max_num_features=10, importance_type='weight', title=\"Feature Importance (Top 10)\")\n",
    "plt.show()"
   ]
  }
 ],
 "metadata": {
  "kernelspec": {
   "display_name": "Python 3 (ipykernel)",
   "language": "python",
   "name": "python3"
  },
  "language_info": {
   "codemirror_mode": {
    "name": "ipython",
    "version": 3
   },
   "file_extension": ".py",
   "mimetype": "text/x-python",
   "name": "python",
   "nbconvert_exporter": "python",
   "pygments_lexer": "ipython3",
   "version": "3.12.8"
  }
 },
 "nbformat": 4,
 "nbformat_minor": 5
}
